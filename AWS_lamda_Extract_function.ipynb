{
 "cells": [
  {
   "cell_type": "code",
   "execution_count": null,
   "id": "943e71d0-ba70-40cf-95f9-a9852569ee71",
   "metadata": {},
   "outputs": [],
   "source": [
    "import json\n",
    "import os\n",
    "import boto3\n",
    "import spotipy\n",
    "from spotipy.oauth2 import SpotifyClientCredentials\n",
    "from datetime import datetime\n",
    "\n",
    "\n",
    "def lambda_handler(event, context):\n",
    "    #Accessing enviornment variables \n",
    "    client_id = os.getenv(\"CLIENT_ID\")\n",
    "    client_secret = os.getenv(\"CLIENT_SECRET\")\n",
    "    \n",
    "    #Athuntecation for spotify API\n",
    "    client_credentials = SpotifyClientCredentials(client_id =client_id, client_secret =client_secret)\n",
    "    \n",
    "    #Authorization for spotify API\n",
    "    sp = spotipy.Spotify(auth_manager =client_credentials)\n",
    "    \n",
    "    #URl link for the desired playlist in spotify. ex: here i have selected telugu love songs playlist from spotify\n",
    "    playlist_link = \"https://open.spotify.com/playlist/37i9dQZF1DX44F1QWqYoaV\"\n",
    "    \n",
    "    #spliting URl link to get the URI to acess that playlist\n",
    "    playlist_URI = playlist_link.split(\"/\")[4]\n",
    "    \n",
    "    #storing the json data obtained from the above URI in a variable \n",
    "    raw_data = sp.playlist_tracks(playlist_URI)\n",
    "    \n",
    "    #storing the data into s3 bucket\n",
    "    client = boto3.client('s3')\n",
    "    \n",
    "    filename = \"spotify_raw_data_\"+str(datetime.now())+'.json'\n",
    "    \n",
    "    client.put_object (\n",
    "        Bucket = \"spotify-etl-pipeline-1\",\n",
    "        Key = \"raw_data_spotify/to_processed/\" + filename,\n",
    "        Body = json.dumps(raw_data)\n",
    "        )\n",
    "    \n",
    "  \n"
   ]
  }
 ],
 "metadata": {
  "kernelspec": {
   "display_name": "Python 3 (ipykernel)",
   "language": "python",
   "name": "python3"
  },
  "language_info": {
   "codemirror_mode": {
    "name": "ipython",
    "version": 3
   },
   "file_extension": ".py",
   "mimetype": "text/x-python",
   "name": "python",
   "nbconvert_exporter": "python",
   "pygments_lexer": "ipython3",
   "version": "3.12.4"
  }
 },
 "nbformat": 4,
 "nbformat_minor": 5
}
